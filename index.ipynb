{
 "cells": [
  {
   "cell_type": "markdown",
   "metadata": {},
   "source": [
    "# Regression with Linear Algebra - Lab\n",
    "\n",
    "## Introduction\n",
    "\n",
    "In this lab, you'll apply regression analysis using simple matrix manipulations to fit a model to given data, and then predict new values for previously unseen data. You'll follow the approach highlighted in previous lesson where you used Numpy to build the appropriate matrices and vectors and solve for the $\\beta$ (unknown variables) vector. The beta vector will be used with test data to make new predictions. You'll also evaluate the model fit.\n",
    "\n",
    "In order to make this experiment interesting, you'll use NumPy at every single stage of this experiment i.e. loading data, creating matrices, performing test train split, model fitting and evaluations.  \n",
    "\n",
    "## Objectives\n",
    "\n",
    "You will be able to:\n",
    "\n",
    "* Use linear algebra to apply simple regression modeling in Python and NumPy only\n",
    "* Apply train/test split using permutations in NumPy\n",
    "* Use matrix algebra with inverses and dot products to calculate the beta\n",
    "* Make predictions from the fitted model using previously unseen input features \n",
    "* Evaluate the fitted model by calculating the error between real and predicted values\n",
    "\n",
    "\n",
    "First let's import necessary libraries "
   ]
  },
  {
   "cell_type": "code",
   "execution_count": 11,
   "metadata": {},
   "outputs": [],
   "source": [
    "import csv # for reading csv file\n",
    "import numpy as np"
   ]
  },
  {
   "cell_type": "markdown",
   "metadata": {},
   "source": [
    "## Dataset \n",
    "\n",
    "The dataset you'll use for this experiment is \"**Sales Prices in the City of Windsor, Canada**\", something very similar to the Boston Housing dataset. This dataset contains a number of input (independent) variables, including area, number of bedrooms/bathrooms, facilities(AC/garage) etc. and an output (dependent) variable, **price**.  You'll formulate a linear algebra problem to find linear mappings from input to out features using the equation provided in the previous lesson. \n",
    "\n",
    "This will allow you to find a relationship between house features and house price for the given data, allowing you to find unknown prices for houses, given the input features.  \n",
    "\n",
    "A description of dataset and included features is available [here](https://rdrr.io/cran/Ecdat/man/Housing.html).\n",
    "\n",
    "In your repository, the dataset is available as `windsor_housing.csv` containing following variables:\n",
    "\n",
    "there are 11 input features (first 11 columns):\n",
    "\n",
    "\tlotsize\tbedrooms  bathrms  stories\tdriveway  recroom\tfullbase  gashw\t airco  garagepl   prefarea\n",
    "\n",
    "and 1 output feature i.e. **price** (12th column). \n",
    "\n",
    "The focus of this lab is not really answering a preset analytical question, but to learn how you can perform a regression experiment, similar to one you performed in statsmodels, using mathematical manipulations. So you won't be using any Pandas or statsmodels goodness here. The key objectives here are to \n",
    "- understand regression with matrix algebra, and \n",
    "- mastery in NumPy scientific computation\n",
    "\n",
    "## Stage 1: Prepare Data for Modeling \n",
    "\n",
    "Let's give you a head start by importing the dataset.You'll perform following steps to get the data ready for analysis:\n",
    "\n",
    "* Initialize an empty list `data` for loading data\n",
    "* Read the csv file containing complete (raw) `windsor_housing.csv`. [Use `csv.reader()` for loading data.](https://docs.python.org/3/library/csv.html). Store this in `data` one row at a time.\n",
    "\n",
    "* Drop the first row of csv file as it contains the names of variables (header) which won't be used during analysis (keeping this will cause errors as it contains text values).\n",
    "\n",
    "* Append a column of all 1s to the data (bias) as the first column\n",
    "\n",
    "* Convert `data` to a Numpy array and inspect first few rows \n",
    "\n",
    "NOTE: `read.csv()` reads the csv as a text file, so you should convert the contents to float."
   ]
  },
  {
   "cell_type": "code",
   "execution_count": 12,
   "metadata": {},
   "outputs": [
    {
     "data": {
      "text/plain": [
       "array([[1.00e+00, 5.85e+03, 3.00e+00, ..., 1.00e+00, 0.00e+00, 4.20e+04],\n",
       "       [1.00e+00, 4.00e+03, 2.00e+00, ..., 0.00e+00, 0.00e+00, 3.85e+04],\n",
       "       [1.00e+00, 3.06e+03, 3.00e+00, ..., 0.00e+00, 0.00e+00, 4.95e+04],\n",
       "       ...,\n",
       "       [1.00e+00, 6.00e+03, 3.00e+00, ..., 1.00e+00, 0.00e+00, 1.03e+05],\n",
       "       [1.00e+00, 6.00e+03, 3.00e+00, ..., 1.00e+00, 0.00e+00, 1.05e+05],\n",
       "       [1.00e+00, 6.00e+03, 3.00e+00, ..., 1.00e+00, 0.00e+00, 1.05e+05]])"
      ]
     },
     "execution_count": 12,
     "metadata": {},
     "output_type": "execute_result"
    }
   ],
   "source": [
    "with open('windsor_housing.csv') as csvfile:\n",
    "    readcsv = csv.reader(csvfile)\n",
    "    data = np.zeros([0,13])\n",
    "    for i, row in enumerate(readcsv):\n",
    "        if i==0:\n",
    "            continue\n",
    "        r = [1]\n",
    "        for c in row:\n",
    "            r.append(float(c))\n",
    "        #print(m)\n",
    "        #print([r])\n",
    "        data = np.append(data,[r], axis=0)\n",
    "        #print(np.array(r))\n",
    "        #print(', '.join(row))\n",
    "\n",
    "# First 5 rows of raw data \n",
    "\n",
    "# array([[1.00e+00, 5.85e+03, 3.00e+00, 1.00e+00, 2.00e+00, 1.00e+00,\n",
    "#         0.00e+00, 1.00e+00, 0.00e+00, 0.00e+00, 1.00e+00, 0.00e+00,\n",
    "#         4.20e+04],\n",
    "#        [1.00e+00, 4.00e+03, 2.00e+00, 1.00e+00, 1.00e+00, 1.00e+00,\n",
    "#         0.00e+00, 0.00e+00, 0.00e+00, 0.00e+00, 0.00e+00, 0.00e+00,\n",
    "#         3.85e+04],\n",
    "#        [1.00e+00, 3.06e+03, 3.00e+00, 1.00e+00, 1.00e+00, 1.00e+00,\n",
    "#         0.00e+00, 0.00e+00, 0.00e+00, 0.00e+00, 0.00e+00, 0.00e+00,\n",
    "#         4.95e+04],\n",
    "#        [1.00e+00, 6.65e+03, 3.00e+00, 1.00e+00, 2.00e+00, 1.00e+00,\n",
    "#         1.00e+00, 0.00e+00, 0.00e+00, 0.00e+00, 0.00e+00, 0.00e+00,\n",
    "#         6.05e+04],\n",
    "#        [1.00e+00, 6.36e+03, 2.00e+00, 1.00e+00, 1.00e+00, 1.00e+00,\n",
    "#         0.00e+00, 0.00e+00, 0.00e+00, 0.00e+00, 0.00e+00, 0.00e+00,\n",
    "#         6.10e+04]])\n",
    "data"
   ]
  },
  {
   "cell_type": "code",
   "execution_count": 13,
   "metadata": {},
   "outputs": [
    {
     "name": "stdout",
     "output_type": "stream",
     "text": [
      "(546, 13)\n",
      "437.6\n"
     ]
    }
   ],
   "source": [
    "print(data.shape)\n",
    "print(547*.8)"
   ]
  },
  {
   "cell_type": "markdown",
   "metadata": {},
   "source": [
    "## Step 2: Perform a 80/20 test train Split\n",
    "\n",
    "Explore NumPy's official documentation to manually split a dataset using `numpy.random.shuffle()`,  `numpy.random.permutations()` or using simple resampling method. \n",
    "* Perform a **random** 80/20 split on data using a method of your choice, in NumPy using one of the methods above\n",
    "* Create x_test, y_test, x_train and y_train arrays from the split data\n",
    "* Inspect the contents to see if the split performed as expected"
   ]
  },
  {
   "cell_type": "code",
   "execution_count": 14,
   "metadata": {},
   "outputs": [
    {
     "name": "stdout",
     "output_type": "stream",
     "text": [
      "(546, 13)\n",
      "(437, 13)\n",
      "(108, 13)\n",
      "(437, 12)\n",
      "(437,)\n",
      "(108, 12)\n",
      "(108,)\n"
     ]
    }
   ],
   "source": [
    "print(data.shape)\n",
    "np.random.shuffle(data)\n",
    "train = data[0:437,:]\n",
    "test = data[437:-1,:]\n",
    "print(train.shape)\n",
    "print(test.shape)\n",
    "# Split results\n",
    "x_train = train[:,0:-1]\n",
    "y_train = train[:,-1]\n",
    "x_test = test[:,0:-1]\n",
    "y_test = test[:,-1]\n",
    "print(x_train.shape)\n",
    "print(y_train.shape)\n",
    "print(x_test.shape)\n",
    "print(y_test.shape)\n",
    "\n",
    "# Raw data Shape:  (546, 13)\n",
    "# Train/Test Split: (437, 13) (109, 13)\n",
    "# x_train, y_train, x_test, y_test: (437, 12) (437,) (109, 12) (109,)"
   ]
  },
  {
   "cell_type": "markdown",
   "metadata": {},
   "source": [
    "## Step 3: Calculate the `beta` \n",
    "\n",
    "With $X$ and $y$ in place, you can now compute your beta values with $x_\\text{train}$ and $y_\\text{train}$ as:\n",
    "#### $\\beta = (x_\\text{train}^T. x_\\text{train})^{-1} . x_\\text{train}^T . y_\\text{train}$\n",
    "\n",
    "* Using numpy operations (transpose, inverse) that we saw earlier, compute the above equation in steps.\n",
    "* Print your beta values"
   ]
  },
  {
   "cell_type": "code",
   "execution_count": 16,
   "metadata": {},
   "outputs": [
    {
     "name": "stdout",
     "output_type": "stream",
     "text": [
      "[-7.62328075e+03  3.70351524e+00  2.41295894e+03  1.56653933e+04\n",
      "  6.37750279e+03  6.32246504e+03  4.51040250e+03  5.82906491e+03\n",
      "  1.45368312e+04  1.12822618e+04  4.21391245e+03  9.86321336e+03]\n"
     ]
    }
   ],
   "source": [
    "from numpy.linalg import inv\n",
    "beta = inv(x_train.T.dot(x_train)).dot(x_train.T.dot(y_train))\n",
    "print(beta)\n",
    "\n",
    "# Calculated beta values\n",
    "\n",
    "# [-3.07118956e+03  2.13543921e+00  4.04283395e+03  1.33559881e+04\n",
    "#   5.75279185e+03  7.82810082e+03  3.73584043e+03  6.51098935e+03\n",
    "#   1.28802060e+04  1.09853850e+04  6.14947126e+03  1.05813305e+04]"
   ]
  },
  {
   "cell_type": "markdown",
   "metadata": {},
   "source": [
    "## Step 4: Make Predictions\n",
    "Great, you now have a set of coefficients that describe the linear mappings between $X$ and $y$. You can now use the calculated beta values with the test datasets that we left out to calculate $y$ predictions. Next, use all features in turn and multiply it with this beta. The result will give a prediction for each row which you can append to a new array of predictions.\n",
    "\n",
    "$\\hat{y} = x\\beta = \\beta_0 + \\beta_1 x_1 +  \\beta_2 x_2 + \\ldots + \\beta_m x_m $ \n",
    "\n",
    "* Create new empty list (`y_pred`) for saving predictions\n",
    "* For each row of x_test, take the dot product of the row with beta to calculate the prediction for that row\n",
    "* Append the predictions to `y_pred`\n",
    "* Print the new set of predictions"
   ]
  },
  {
   "cell_type": "code",
   "execution_count": 21,
   "metadata": {},
   "outputs": [
    {
     "name": "stdout",
     "output_type": "stream",
     "text": [
      "(108, 12)\n",
      "(12,)\n",
      "[ 45527.52453777  90357.89666423  30504.21957047  58857.21332899\n",
      "  41863.46533663  84742.39131309 102909.08355492  77546.94026667\n",
      "  80969.25971352  51632.65064423  91451.87910382  77320.94441778\n",
      " 118233.54172177  63497.23886016  30356.07896089  50333.99942444\n",
      "  71473.86645218  77979.64840173  49024.38036813  54160.83837377\n",
      "  56097.29778011  82556.19769025  86034.37375271 153630.10018189\n",
      "  53994.93246839  53378.22812483  39048.79375461  63362.2668664\n",
      "  85591.02491694  56230.0452358   97521.84661621  40382.05924083\n",
      "  93515.07592501  50869.45842344  46077.37778498  31535.52979882\n",
      "  54338.30860365  43524.66023747  31657.98333342  54455.7042327\n",
      "  91280.5126364   38900.65314503  40457.53554246  66962.78284978\n",
      "  64158.29802703  49122.35520604  70986.52660207  83629.89656665\n",
      " 104410.13810877  68648.68411424  54785.6742924   50245.27260401\n",
      "  70387.43300907  94415.11186748  67480.22018463 103994.59861887\n",
      "  58543.21636412 102685.44649605  56081.27934138 105465.88166991\n",
      "  91120.03408634 100196.71175381  78008.06450122 100556.19255547\n",
      "  39641.35619293  45469.00573821  54127.13647396  91817.91837261\n",
      "  40530.19985041  70535.80081952 100496.12461054  48246.64216783\n",
      "  74607.09959598  43262.70620297  57712.8698383   69519.19421143\n",
      "  66112.13160171  29245.02438904  39352.53155433  85572.69396006\n",
      "  74478.40198848  40382.05924083  84325.54048564 110172.72203716\n",
      "  68670.11588505  54215.75275825  71023.18994259  86833.41542461\n",
      "  50653.92707351  55587.31702582  55986.19232292  39011.75860222\n",
      "  51735.40307352  41147.99900121  83739.91183691  58534.95795307\n",
      "  53386.43342606  44054.21336664  91448.08162344  38036.90148615\n",
      "  41871.59046976  93218.00761605  38974.72344982  53684.33883573\n",
      " 102792.07394664  59121.51730131  51121.61509126  74968.73091041]\n"
     ]
    }
   ],
   "source": [
    "print(x_test.shape)\n",
    "print(beta.shape)\n",
    "yhat = x_test.dot(beta)\n",
    "print(yhat)"
   ]
  },
  {
   "cell_type": "markdown",
   "metadata": {},
   "source": [
    "## Step 5: Evaluate Model \n",
    "\n",
    "### Visualize Actual vs. Predicted values\n",
    "This is exciting, now your model can use the beta value to predict the price of houses given the input features. Let's plot these predictions against the actual values in `y_test` to see how much our model deviates. "
   ]
  },
  {
   "cell_type": "code",
   "execution_count": 23,
   "metadata": {},
   "outputs": [
    {
     "data": {
      "text/plain": [
       "[<matplotlib.lines.Line2D at 0x7f400ddb2828>]"
      ]
     },
     "execution_count": 23,
     "metadata": {},
     "output_type": "execute_result"
    },
    {
     "data": {
      "image/png": "[encoded data removed]",
      "text/plain": [
       "<Figure size 432x288 with 1 Axes>"
      ]
     },
     "metadata": {
      "needs_background": "light"
     },
     "output_type": "display_data"
    }
   ],
   "source": [
    "import matplotlib.pyplot as plt\n",
    "%matplotlib inline\n",
    "plt.plot(range(len(y_test)), y_test)\n",
    "plt.plot(range(len(yhat)), yhat)"
   ]
  },
  {
   "cell_type": "markdown",
   "metadata": {},
   "source": [
    "<img src =\"images/diff.png\" width=\"750\">\n",
    "\n",
    "This doesn't look so bad, does it? Your model, although isn't perfect at this stage, is making a good attempt to predict house prices although a few prediction seem a bit out. There could be a number of reasons for this. Let's try to dig a bit deeper to check model's predictive abilities by comparing these prediction with actual values of `y_test` individually. That will help you calculate the RMSE value (Root Mean Squared Error) for your model. \n",
    "### Root Mean Squared Error\n",
    "Here is the formula for this again. \n",
    "\n",
    "$$ \\large RMSE = \\sqrt{\\sum^N_{i=1}\\dfrac{ (\\text{Predicted}_i-\\text{Actual}_i)^2}{N}}$$\n",
    "\n",
    "* Initialize an empty array `err`\n",
    "* for each row in `y_test` and `y_pred`, take the squared difference and append error for each row in the `err` array\n",
    "* Calculate $RMSE$ from `err` using the formula shown above. "
   ]
  },
  {
   "cell_type": "code",
   "execution_count": 7,
   "metadata": {},
   "outputs": [],
   "source": [
    "# Calculate RMSE\n",
    "\n",
    "# Due to random split, your answers may vary \n",
    "\n",
    "# RMSE = 16401.913562758735"
   ]
  },
  {
   "cell_type": "markdown",
   "metadata": {},
   "source": [
    "### Normalized Root Mean Squared Error\n",
    "The above error is clearly in terms of the dependent variable i.e. the final house price. You can also use a normalized mean squared error in case of multiple regression which can be calculated from RMSE using following formula:\n",
    "\n",
    "* Calculate normalized Root Mean Squared Error\n",
    "\n",
    "\n",
    "$$ \\large NRMSE = \\dfrac{RMSE}{max_i y_i - min_i y_i} $$"
   ]
  },
  {
   "cell_type": "code",
   "execution_count": 11,
   "metadata": {},
   "outputs": [
    {
     "data": {
      "text/plain": [
       "0.09940553674399233"
      ]
     },
     "execution_count": 11,
     "metadata": {},
     "output_type": "execute_result"
    }
   ],
   "source": [
    "# Calculate NRMSE\n",
    "\n",
    "# Due to random split, your answers may vary \n",
    "\n",
    "# 0.09940553674399233"
   ]
  },
  {
   "cell_type": "markdown",
   "metadata": {},
   "source": [
    "There it is. A complete multiple regression analysis using nothing but Numpy. Having good programming skills in numpy allows you to dig deeper into analytical algorithms in machine learning and deep learning. Using matrix multiplication techniques you saw here, you can easily build a whole neural network from scratch. \n",
    "\n",
    "## Level up - Optional \n",
    "\n",
    "* Calculate the R_squared and adjusted R_squared for the above experiment\n",
    "* Plot the residuals (similar to statsmodels) and comment on the variance and heteroscedascticity\n",
    "* Run the experiment in statsmodels and compare the performance of both approaches in terms of computational cost\n",
    "\n",
    "## Summary\n",
    "\n",
    "In this lab, you built a predictive model for predicting house prices. Remember this is a very naive implementation of regression modeling. The purpose here was to get an introduction to the applications of linear algebra into machine learning and predictive analysis. There are still have a number of shortcomings in this modeling approach and you can further apply a number of data modeling techniques to improve this model. "
   ]
  }
 ],
 "metadata": {
  "kernelspec": {
   "display_name": "Python 3",
   "language": "python",
   "name": "python3"
  },
  "language_info": {
   "codemirror_mode": {
    "name": "ipython",
    "version": 3
   },
   "file_extension": ".py",
   "mimetype": "text/x-python",
   "name": "python",
   "nbconvert_exporter": "python",
   "pygments_lexer": "ipython3",
   "version": "3.6.6"
  }
 },
 "nbformat": 4,
 "nbformat_minor": 2
}
